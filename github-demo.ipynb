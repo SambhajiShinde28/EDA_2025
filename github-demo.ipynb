{
 "cells": [
  {
   "cell_type": "code",
   "execution_count": null,
   "id": "44e4d659-864c-4b4a-b478-424304a4ee2b",
   "metadata": {},
   "outputs": [],
   "source": [
    "print(\"Hi this is github\")"
   ]
  },
  {
   "cell_type": "code",
   "execution_count": null,
   "id": "8c27df0c",
   "metadata": {},
   "outputs": [],
   "source": [
    "k=10\n",
    "print(f\"This is multiplicaltion : {k*2}\")"
   ]
  }
 ],
 "metadata": {
  "kernelspec": {
   "display_name": "Python 3 (ipykernel)",
   "language": "python",
   "name": "python3"
  },
  "language_info": {
   "codemirror_mode": {
    "name": "ipython",
    "version": 3
   },
   "file_extension": ".py",
   "mimetype": "text/x-python",
   "name": "python",
   "nbconvert_exporter": "python",
   "pygments_lexer": "ipython3",
   "version": "3.12.7"
  },
  "widgets": {
   "application/vnd.jupyter.widget-state+json": {
    "state": {},
    "version_major": 2,
    "version_minor": 0
   }
  }
 },
 "nbformat": 4,
 "nbformat_minor": 5
}
